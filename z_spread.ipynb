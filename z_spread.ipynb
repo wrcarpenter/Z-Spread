{
 "cells": [
  {
   "cell_type": "markdown",
   "metadata": {},
   "source": [
    "## Z-Spread \n",
    "\n",
    "Author: Will Carpenter\n",
    "\n",
    "Date:   April 6th, 2024\n",
    "\n",
    "A comprehensive Python notebook to create a spot interest rate curve and calculate bond Z-spreads, among other pricing metrics. This notebook leverages custom Python modules (see importing and project folder for all source code)."
   ]
  },
  {
   "cell_type": "code",
   "execution_count": 4,
   "metadata": {},
   "outputs": [],
   "source": [
    "# import\n",
    "import pandas as pd\n",
    "import numpy as np\n",
    "# Custom modules\n",
    "import mortgage_cash_flow as mbs\n",
    "import bond_price as px\n",
    "import spot_rate_bootstrap as boot \n",
    "import z_spread as pricing"
   ]
  },
  {
   "cell_type": "markdown",
   "metadata": {},
   "source": [
    "Obtain U.S. Treasury Par-Yield Data"
   ]
  },
  {
   "cell_type": "code",
   "execution_count": 6,
   "metadata": {},
   "outputs": [],
   "source": [
    "# Importing data available on Github  \n",
    "tsy  = pd.read_csv(\"https://raw.githubusercontent.com/wrcarpenter/Z-Spread/main/Data/daily-treasury-rates.csv\", header=0)\n",
    "head = pd.read_csv(\"https://raw.githubusercontent.com/wrcarpenter/Z-Spread/main/Data/daily-treasury-spot-header.csv\")\n",
    "# Add charting here"
   ]
  },
  {
   "cell_type": "markdown",
   "metadata": {},
   "source": [
    "Interpolate Semi-Annual Par Yield Rates"
   ]
  },
  {
   "cell_type": "code",
   "execution_count": null,
   "metadata": {},
   "outputs": [],
   "source": [
    "ylds = boot.interpolate_yields(tsy, head)"
   ]
  },
  {
   "cell_type": "markdown",
   "metadata": {},
   "source": [
    "Boostrap Treasury Yield Data to Create Spot Rate Curve"
   ]
  },
  {
   "cell_type": "code",
   "execution_count": null,
   "metadata": {},
   "outputs": [],
   "source": [
    "spots         = boot.spot_rate_bootstrap(ylds, tsy, head)\n",
    "spots_monthly = boot.spot_rates_monthly(spots)"
   ]
  },
  {
   "cell_type": "markdown",
   "metadata": {},
   "source": []
  }
 ],
 "metadata": {
  "kernelspec": {
   "display_name": "base",
   "language": "python",
   "name": "python3"
  },
  "language_info": {
   "codemirror_mode": {
    "name": "ipython",
    "version": 3
   },
   "file_extension": ".py",
   "mimetype": "text/x-python",
   "name": "python",
   "nbconvert_exporter": "python",
   "pygments_lexer": "ipython3",
   "version": "3.9.16"
  }
 },
 "nbformat": 4,
 "nbformat_minor": 2
}
